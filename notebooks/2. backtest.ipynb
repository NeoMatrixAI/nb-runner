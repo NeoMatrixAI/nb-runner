{
 "cells": [
  {
   "cell_type": "markdown",
   "metadata": {
    "id": "IH_4FPar20Sx"
   },
   "source": [
    "# Mount Google Drive"
   ]
  },
  {
   "cell_type": "code",
   "execution_count": null,
   "metadata": {
    "id": "3WV1olmpG0nB"
   },
   "outputs": [],
   "source": [
    "from google.colab import drive\n",
    "drive.mount('/content/drive')\n",
    "\n",
    "import warnings\n",
    "warnings.filterwarnings('ignore')"
   ]
  },
  {
   "cell_type": "markdown",
   "metadata": {
    "id": "lNKHZ8xM3CWh"
   },
   "source": [
    "# Import required libraries"
   ]
  },
  {
   "cell_type": "code",
   "execution_count": 3,
   "metadata": {
    "executionInfo": {
     "elapsed": 592,
     "status": "ok",
     "timestamp": 1748211988650,
     "user": {
      "displayName": "이현호",
      "userId": "15420360859277727017"
     },
     "user_tz": -540
    },
    "id": "izr8ugtak2Ug"
   },
   "outputs": [],
   "source": [
    "import os\n",
    "import requests\n",
    "import json\n",
    "import pandas as pd\n",
    "from datetime import datetime"
   ]
  },
  {
   "cell_type": "markdown",
   "metadata": {
    "id": "y06cqvOb2_fQ"
   },
   "source": [
    "# Setting up API and user information"
   ]
  },
  {
   "cell_type": "code",
   "execution_count": 10,
   "metadata": {
    "executionInfo": {
     "elapsed": 3,
     "status": "ok",
     "timestamp": 1748212030436,
     "user": {
      "displayName": "이현호",
      "userId": "15420360859277727017"
     },
     "user_tz": -540
    },
    "id": "ZgqsGdHO2-Zw"
   },
   "outputs": [],
   "source": [
    "user_key = 'Input your User Key'\n",
    "data_apikey = \"Input your Data API Key\"\n",
    "\n",
    "root_url = f'https://zipline.fin.cloud.ainode.ai/{user_key}/'"
   ]
  },
  {
   "cell_type": "markdown",
   "metadata": {
    "id": "tp6qAi28k5kK"
   },
   "source": [
    "# health check"
   ]
  },
  {
   "cell_type": "code",
   "execution_count": 11,
   "metadata": {
    "executionInfo": {
     "elapsed": 6,
     "status": "ok",
     "timestamp": 1748212033403,
     "user": {
      "displayName": "이현호",
      "userId": "15420360859277727017"
     },
     "user_tz": -540
    },
    "id": "2GFqNBbOk57s"
   },
   "outputs": [],
   "source": [
    "requests.get(root_url).json()"
   ]
  },
  {
   "cell_type": "markdown",
   "metadata": {
    "id": "PSbpVFHkk6xN"
   },
   "source": [
    "# upload to backtest server"
   ]
  },
  {
   "cell_type": "code",
   "execution_count": null,
   "metadata": {
    "executionInfo": {
     "elapsed": 7,
     "status": "ok",
     "timestamp": 1748212024747,
     "user": {
      "displayName": "이현호",
      "userId": "15420360859277727017"
     },
     "user_tz": -540
    },
    "id": "TvuXTxeOk8BP"
   },
   "outputs": [],
   "source": [
    "# Upload strategy file\n",
    "endpoint = 'upload/strategy/'\n",
    "url = root_url + endpoint\n",
    "\n",
    "file_base_path = \"/content/drive/MyDrive/~~~\" # Input a path that contains a proven your strategy\n",
    "strategy_nm = \"Input your Strategy file\" # example : \"Momentum.py\" (python file)\n",
    "file_path = file_base_path + strategy_nm\n",
    "\n",
    "with open(file_path, \"rb\") as f:\n",
    "    files = {\"file\": f}\n",
    "    response = requests.post(url, files=files)\n",
    "\n",
    "print(\"📂 Upload Response:\", response.json())"
   ]
  },
  {
   "cell_type": "code",
   "execution_count": null,
   "metadata": {
    "executionInfo": {
     "elapsed": 398,
     "status": "aborted",
     "timestamp": 1748211963231,
     "user": {
      "displayName": "이현호",
      "userId": "15420360859277727017"
     },
     "user_tz": -540
    },
    "id": "j6EnrPMnExOq"
   },
   "outputs": [],
   "source": [
    "# Check strategy file upload\n",
    "endpoint = 'upload/strategy/check/'\n",
    "url = root_url + endpoint\n",
    "\n",
    "params = {\"strategy_name\": \"Input your strategy name\"} # example : \"Momentum.py\" --> \"Momentum\"\n",
    "\n",
    "response = requests.get(url, params=params)\n",
    "print(response.json()['content'])"
   ]
  },
  {
   "cell_type": "markdown",
   "metadata": {
    "id": "8WHHGD83lAAJ"
   },
   "source": [
    "# delete"
   ]
  },
  {
   "cell_type": "code",
   "execution_count": null,
   "metadata": {
    "executionInfo": {
     "elapsed": 15,
     "status": "ok",
     "timestamp": 1748212015728,
     "user": {
      "displayName": "이현호",
      "userId": "15420360859277727017"
     },
     "user_tz": -540
    },
    "id": "Dgt_LwvalBfY"
   },
   "outputs": [],
   "source": [
    "# # Delete uploaded strategy settings file\n",
    "# endpoint = 'upload/strategy/delete/'\n",
    "# url = root_url + endpoint\n",
    "\n",
    "# params = {\"strategy_name\": \"Input your strategy name\"} # example : \"Momentum.py\" --> \"Momentum\"\n",
    "\n",
    "# # Sending a DELETE request\n",
    "# response = requests.delete(url, params=params)\n",
    "# print(response.json())"
   ]
  },
  {
   "cell_type": "markdown",
   "metadata": {
    "id": "1chfJ5wzlC4n"
   },
   "source": [
    "# config\n"
   ]
  },
  {
   "cell_type": "code",
   "execution_count": null,
   "metadata": {
    "id": "pIgMLDV43-9W"
   },
   "outputs": [],
   "source": [
    "# --- 2. Defining backtest execution parameters ---\n",
    "\n",
    "strategy_file_name = \"Input your strategy file name\" # example : \"Momentum.py\"\n",
    "\n",
    "strategy_config_params = {\n",
    "  \"rebalancing_config\": {             # Rebalancing settings\n",
    "    \"rebalancing_interval_hours\": 72, ## Rebalancing cycle (choose between 6, 12, 24, and 72 hours)\n",
    "    \"minimum_candidates\": 0           ## Minimum number of symbols to select\n",
    "  },\n",
    "  \"strategy_config\": {                # Setting strategy parameters\n",
    "    \"Input your parameter name\": \"Input your parameter value\",\n",
    "\n",
    "    \"Input your parameter name\": \"Input your parameter value\"\n",
    "  }\n",
    "}\n",
    "\n",
    "start_date_str = \"2025-01-01\"\n",
    "end_date_str = \"2025-03-01\"\n",
    "lookback_min = 180 # Max lookback minutes the script needs for data history\n",
    "initial_capital = 200000\n",
    "leverage = 10\n",
    "symbols = ['BTCUSDT', 'ETHUSDT', 'XRPUSDT', 'BCHUSDT', 'LTCUSDT',\n",
    "           'ADAUSDT', 'ETCUSDT', 'TRXUSDT', 'DOTUSDT', 'DOGEUSDT', 'SOLUSDT',\n",
    "           'BNBUSDT', 'ICPUSDT', 'FILUSDT', 'XLMUSDT', 'ONTUSDT', 'QTUMUSDT',\n",
    "           'NKNUSDT', 'AVAXUSDT', 'CELOUSDT', 'WAXPUSDT', 'DYMUSDT', 'APTUSDT',\n",
    "           'FLOWUSDT', 'GTCUSDT', 'SEIUSDT', 'ATOMUSDT', 'NEARUSDT', 'STXUSDT',\n",
    "           'MINAUSDT', 'BSVUSDT', 'EGLDUSDT', 'RVNUSDT', 'ONEUSDT', 'NEOUSDT',\n",
    "           'JUPUSDT', 'ZILUSDT', 'XTZUSDT', 'LUNCUSDT', 'CKBUSDT', 'IOTAUSDT',\n",
    "           'THETAUSDT', 'ICXUSDT', 'ALGOUSDT', 'LSKUSDT', 'CFXUSDT', 'TONUSDT',\n",
    "           'MEMEUSDT', 'SXPUSDT', 'KASUSDT', 'HBARUSDT', 'IOSTUSDT', 'BEAMUSDT',\n",
    "           'FETUSDT', 'XVGUSDT', 'SUIUSDT', 'VETUSDT', 'KSMUSDT', 'ARBUSDT',\n",
    "           'ARUSDT', 'RUNEUSDT', 'IOTXUSDT', 'TAIKOUSDT', 'COREUSDT', 'BBUSDT',\n",
    "           'COTIUSDT', 'NTRNUSDT'] # Select Symbol for Backtest\n",
    "calendar = \"24/7\" # fixed variable\n",
    "frequency = \"minute\" # fixed variable\n",
    "weight = 0.05\n",
    "\n",
    "generate_report_flag = True # True : backtest logging + html backtest result\n",
    "                            # False : backtest logging"
   ]
  },
  {
   "cell_type": "markdown",
   "metadata": {
    "id": "xaQRC7sY4IlN"
   },
   "source": [
    "# run backtest"
   ]
  },
  {
   "cell_type": "code",
   "execution_count": null,
   "metadata": {
    "id": "gQU_LQAJlDwU"
   },
   "outputs": [],
   "source": [
    "# Just run this shell\n",
    "# --- 3. Configuring API Request Body (Payload) ---\n",
    "request_payload = {\n",
    "    \"data_apikey\": data_apikey,\n",
    "    \"strategy\": strategy_file_name,\n",
    "    \"strategy_config\": strategy_config_params,\n",
    "    \"start_date\": start_date_str,\n",
    "    \"end_date\": end_date_str,\n",
    "    \"lookback_minutes\": lookback_min,\n",
    "    \"capital\": initial_capital,\n",
    "    \"leverage\": leverage,\n",
    "    \"symbols\": symbols,\n",
    "    \"calendar\": calendar,\n",
    "    \"frequency\": frequency,\n",
    "    \"weight\": weight,\n",
    "    \"generate_pyfolio_report\": generate_report_flag\n",
    "}\n",
    "\n",
    "# --- 4. Configure API endpoint URL ---\n",
    "endpoint = 'run/backtest/'\n",
    "url = root_url + endpoint\n",
    "\n",
    "# --- 5. Executing API calls and processing results ---\n",
    "try:\n",
    "    response = requests.post(url, json=request_payload)\n",
    "    response.raise_for_status()\n",
    "    print(f\"\\n--- Backtest execution successful (Status Code: {response.status_code}) ---\")\n",
    "\n",
    "    try:\n",
    "        result_data = response.json()\n",
    "        report_type = result_data.get('report_type') # Check report type\n",
    "\n",
    "        if report_type == 'html':\n",
    "            print(\"Report Type: HTML Report included.\")\n",
    "            html_content = result_data.get('html_content')\n",
    "            logs = result_data.get('logs', 'No stderr logs received.')\n",
    "            stdout_logs = result_data.get('stdout', 'No stdout received.')\n",
    "\n",
    "            if html_content:\n",
    "                path = \"/content/drive/MyDrive/backtest_report\" # Modify route\n",
    "\n",
    "                if not os.path.exists(path):\n",
    "                  os.makedirs(path)\n",
    "\n",
    "                report_filename = os.path.join(path, f\"{datetime.now().strftime('%Y-%m-%d %H:%M')}_backtest_report.html\")\n",
    "                try:\n",
    "                    with open(report_filename, \"w\", encoding=\"utf-8\") as f:\n",
    "                        f.write(html_content)\n",
    "                    print(f\"HTML report received and saved successfully as '{report_filename}'.\")\n",
    "                except Exception as e:\n",
    "                    print(f\"ERROR: Failed to save received HTML report: {e}\")\n",
    "                    print(\"\\n--- Received HTML Content (Snippet) ---\")\n",
    "                    print(html_content[:1000] + \"...\") # Output some content when saving fails\n",
    "            else:\n",
    "                print(\"WARN: Report type was 'html' but no HTML content found in response.\")\n",
    "\n",
    "            # print logging\n",
    "            print(\"\\n--- Execution Logs (stderr) ---\")\n",
    "            print(logs)\n",
    "            if stdout_logs:\n",
    "                print(\"\\n--- Execution Output (stdout) ---\")\n",
    "                print(stdout_logs)\n",
    "\n",
    "        elif report_type == 'logs_only':\n",
    "            print(f\"Report Type: Logs Only (Report generation skipped).\")\n",
    "            print(f\"Message: {result_data.get('message')}\")\n",
    "            print(\"\\n--- Execution Logs (stderr) ---\")\n",
    "            print(result_data.get('logs', 'No stderr logs received.'))\n",
    "            if 'stdout' in result_data:\n",
    "                 print(\"\\n--- Execution Output (stdout) ---\")\n",
    "                 print(result_data.get('stdout', 'No stdout received.'))\n",
    "        else:\n",
    "            print(f\"WARN: Received successful response with unknown report_type: '{report_type}'\")\n",
    "            print(\"\\n--- Full JSON Response ---\")\n",
    "            print(json.dumps(result_data, indent=2, ensure_ascii=False))\n",
    "\n",
    "    except json.JSONDecodeError:\n",
    "        print(\"ERROR: Failed to decode JSON response from successful API call.\")\n",
    "        print(f\"Content-Type: {response.headers.get('content-type', 'N/A')}\")\n",
    "        print(\"\\n--- Received Raw Content (First 1000 chars) ---\")\n",
    "        print(response.text[:1000] + \"...\")\n",
    "\n",
    "except requests.exceptions.Timeout:\n",
    "    print(f\"\\n--- API call failed: Timeout) ---\")\n",
    "except requests.exceptions.HTTPError as e:\n",
    "    print(f\"\\n--- API call failed: HTTP Error {e.response.status_code} ---\")\n",
    "    try:\n",
    "        error_details = e.response.json()\n",
    "        print(\"Error details:\")\n",
    "        print(json.dumps(error_details, indent=2, ensure_ascii=False))\n",
    "    except json.JSONDecodeError:\n",
    "        print(\"Error response content (Non-JSON):\")\n",
    "        print(e.response.text)\n",
    "except requests.exceptions.RequestException as e:\n",
    "    print(f\"\\n--- API call failure: Request Error ---\")\n",
    "    print(f\"Error connecting to or requesting the API server ({url}): {e}\")\n",
    "except Exception as e:\n",
    "    print(f\"\\n--- Unexpected error occurred ---\")\n",
    "    print(f\"Error type: {type(e).__name__}, Content: {e}\")"
   ]
  }
 ],
 "metadata": {
  "colab": {
   "provenance": []
  },
  "kernelspec": {
   "display_name": "Python 3",
   "name": "python3"
  },
  "language_info": {
   "name": "python"
  }
 },
 "nbformat": 4,
 "nbformat_minor": 0
}
