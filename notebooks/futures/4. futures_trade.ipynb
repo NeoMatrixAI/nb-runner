{
 "cells": [
  {
   "cell_type": "markdown",
   "id": "98be6fce",
   "metadata": {
    "id": "98be6fce"
   },
   "source": [
    "### 노트북 설명\n",
    "\n",
    "이 노트북은 거래 플랫폼과 상호작용하여 자동 거래 시스템을 설정하고 실행하는 과정을 보여줍니다. 주요 단계는 다음과 같습니다.\n",
    "\n",
    "1.  **Google Drive 마운트**: Google Drive에 저장된 전략 및 설정 파일을 사용하기 위해 Colab에서 Google Drive를 마운트합니다.\n",
    "2.  **API 키 등록**: AIFAPBT 플랫폼에 접근하기 위한 사용자 API 키와 데이터 API 키를 설정합니다.\n",
    "3.  **Health Check**: 플랫폼의 상태를 확인하여 정상적으로 작동하는지 검증합니다.\n",
    "4.  **전략 파일 업로드/업데이트**: 자동 거래에 사용할 전략 파일을 플랫폼에 업로드하거나 업데이트합니다.\n",
    "5.  **전략 설정 파일 업로드/업데이트**: 전략 실행에 필요한 설정 파일을 플랫폼에 업로드하거나 업데이트합니다.\n",
    "6.  **시스템 설정 파일 업로드/업데이트**: 시스템 전반에 걸친 설정을 담은 파일을 플랫폼에 업로드하거나 업데이트합니다.\n",
    "7.  **자동 거래 실행**: 업로드된 전략과 설정 파일을 사용하여 자동 거래 시스템을 실행합니다. 실행 후 세션 ID와 대시보드 URL을 출력합니다.\n",
    "8.  **로그 확인**: 실행 중인 자동 거래 시스템의 로그를 확인합니다.\n",
    "9.  **시스템 종료**: 실행 중인 자동 거래 시스템을 강제로 종료합니다.\n",
    "10. **최종 점검**: 시스템 종료 후 남은 자산을 확인하고, 포지션 가치가 1 USDT 이상인 자산에 대해 강제 청산을 수행합니다.\n",
    "\n",
    "#### - Original GitHub Link : https://github.com/NeoMatrixAI/nb-runner/tree/main/notebooks"
   ]
  },
  {
   "cell_type": "markdown",
   "id": "3DIstmDNmUww",
   "metadata": {
    "id": "3DIstmDNmUww"
   },
   "source": [
    "# Mount Google Drive"
   ]
  },
  {
   "cell_type": "code",
   "execution_count": null,
   "id": "57cKATqqmTdm",
   "metadata": {
    "id": "57cKATqqmTdm"
   },
   "outputs": [],
   "source": [
    "from google.colab import drive\n",
    "drive.mount('/content/drive')\n",
    "\n",
    "import warnings\n",
    "warnings.filterwarnings('ignore')"
   ]
  },
  {
   "cell_type": "markdown",
   "id": "65cc6973",
   "metadata": {
    "id": "65cc6973"
   },
   "source": [
    "# Register Api Key"
   ]
  },
  {
   "cell_type": "code",
   "execution_count": null,
   "id": "c02d0d2d",
   "metadata": {
    "ExecuteTime": {
     "end_time": "2025-06-30T06:35:36.924485Z",
     "start_time": "2025-06-30T06:35:36.923053Z"
    },
    "collapsed": true,
    "id": "c02d0d2d"
   },
   "outputs": [],
   "source": [
    "USER_KEY = \"\"  # <------------------ Input your User key\n",
    "DATA_KEY = \"a71eaf04-802f-40be-93c2-5bee2548f4db\"  # <------------------ Fixed Data Api key\n",
    "\n",
    "print(\"USER_KEY:\", USER_KEY if USER_KEY else \"Not found\")\n",
    "print(\"DATA_KEY:\", DATA_KEY if DATA_KEY else \"Not found\")"
   ]
  },
  {
   "cell_type": "markdown",
   "id": "445b0739",
   "metadata": {
    "id": "445b0739"
   },
   "source": [
    "# health check"
   ]
  },
  {
   "cell_type": "code",
   "execution_count": null,
   "id": "e869b347",
   "metadata": {
    "ExecuteTime": {
     "end_time": "2025-06-30T06:35:38.906393Z",
     "start_time": "2025-06-30T06:35:38.904907Z"
    },
    "id": "e869b347"
   },
   "outputs": [],
   "source": [
    "import requests\n",
    "\n",
    "root_url = f'https://aifapbt.fin.cloud.ainode.ai/'\n",
    "\n",
    "headers = {\"API-KEY\": USER_KEY}\n",
    "requests.get(root_url, headers=headers).json()"
   ]
  },
  {
   "cell_type": "markdown",
   "id": "0pcLQoYubZkT",
   "metadata": {
    "id": "0pcLQoYubZkT"
   },
   "source": [
    "# 1. Strategy"
   ]
  },
  {
   "cell_type": "markdown",
   "id": "24589be1",
   "metadata": {
    "id": "24589be1"
   },
   "source": [
    "## 1-1. Upload / Update"
   ]
  },
  {
   "cell_type": "code",
   "execution_count": null,
   "id": "b22fefe7",
   "metadata": {
    "ExecuteTime": {
     "end_time": "2025-06-30T06:30:49.716459Z",
     "start_time": "2025-06-30T06:30:49.714537Z"
    },
    "id": "b22fefe7"
   },
   "outputs": [],
   "source": [
    "import os\n",
    "strategy_name = \"simple_momentum\""
   ]
  },
  {
   "cell_type": "code",
   "execution_count": null,
   "id": "141b6c5d",
   "metadata": {
    "ExecuteTime": {
     "end_time": "2025-06-30T06:35:41.370481Z",
     "start_time": "2025-06-30T06:35:41.368874Z"
    },
    "id": "141b6c5d"
   },
   "outputs": [],
   "source": [
    "# Upload or Update strategy file\n",
    "endpoint = 'upload/strategy'\n",
    "url = root_url + endpoint\n",
    "\n",
    "base_path = \"/content/drive/MyDrive/NeoMatrixAI/futures\"\n",
    "file_path = os.path.join(base_path, strategy_name, strategy_name + \".py\")\n",
    "\n",
    "params = {'tradeType':'futures', 'overwrite': True} # If overwrite is True, it will modify the existing file.\n",
    "\n",
    "with open(file_path, \"rb\") as f:\n",
    "    files = {\"file\": f}\n",
    "    response = requests.post(url, headers=headers, params=params, files=files)\n",
    "\n",
    "print(\"📂 Upload Response:\", response.json())"
   ]
  },
  {
   "cell_type": "markdown",
   "id": "ei0SWWLcbvwr",
   "metadata": {
    "id": "ei0SWWLcbvwr"
   },
   "source": [
    "## 1-2. Check"
   ]
  },
  {
   "cell_type": "code",
   "execution_count": null,
   "id": "615960b9",
   "metadata": {
    "ExecuteTime": {
     "end_time": "2025-06-30T06:35:43.677083Z",
     "start_time": "2025-06-30T06:35:43.675566Z"
    },
    "id": "615960b9"
   },
   "outputs": [],
   "source": [
    "# Check strategy file upload\n",
    "endpoint = 'upload/check/strategy'\n",
    "url = root_url + endpoint\n",
    "\n",
    "params = {\"tradeType\": \"futures\", \"strategy_name\": strategy_name}\n",
    "\n",
    "response = requests.get(url, headers=headers, params=params)\n",
    "print(response.json()['content'])"
   ]
  },
  {
   "cell_type": "markdown",
   "id": "5a69f02a",
   "metadata": {
    "id": "5a69f02a"
   },
   "source": [
    "## 1-3. Delete - (optional)"
   ]
  },
  {
   "cell_type": "code",
   "execution_count": null,
   "id": "b4c88077",
   "metadata": {
    "ExecuteTime": {
     "end_time": "2025-06-30T06:27:31.348593Z",
     "start_time": "2025-06-30T06:27:31.347044Z"
    },
    "id": "b4c88077"
   },
   "outputs": [],
   "source": [
    "# # Delete uploaded strategy settings file\n",
    "# endpoint = 'upload/delete/strategy'\n",
    "# url = root_url + endpoint\n",
    "\n",
    "# params = {\"tradeType\": \"futures\", \"strategy_name\": strategy_name}\n",
    "\n",
    "# # Sending a DELETE request\n",
    "# response = requests.delete(url, headers=headers, params=params)"
   ]
  },
  {
   "cell_type": "markdown",
   "id": "2607fe59",
   "metadata": {
    "id": "2607fe59"
   },
   "source": [
    "# 2. Strategy-config"
   ]
  },
  {
   "cell_type": "markdown",
   "id": "oy9YLAogccV_",
   "metadata": {
    "id": "oy9YLAogccV_"
   },
   "source": [
    "## 2-1. Upload / Update"
   ]
  },
  {
   "cell_type": "code",
   "execution_count": null,
   "id": "deb3f013",
   "metadata": {
    "ExecuteTime": {
     "end_time": "2025-06-30T06:35:48.923548Z",
     "start_time": "2025-06-30T06:35:48.921937Z"
    },
    "id": "deb3f013"
   },
   "outputs": [],
   "source": [
    "# Upload or Update strategy-config file\n",
    "endpoint = 'upload/strategy-config'\n",
    "url = root_url + endpoint\n",
    "\n",
    "strategy_config_name = strategy_name + \"_config\"\n",
    "base_path = \"/content/drive/MyDrive/NeoMatrixAI/futures/\"\n",
    "file_path = os.path.join(base_path, strategy_name, strategy_config_name + \".py\")\n",
    "\n",
    "params = {\"tradeType\": \"futures\", \"overwrite\": True} # If overwrite is True, it will modify the existing file.\n",
    "\n",
    "with open(file_path, \"rb\") as f:\n",
    "    files = {\"file\": f}\n",
    "    response = requests.post(url, headers=headers, params=params, files=files)\n",
    "\n",
    "print(\"📂 Upload Response:\", response.json())"
   ]
  },
  {
   "cell_type": "markdown",
   "id": "VtshJS08cfYL",
   "metadata": {
    "id": "VtshJS08cfYL"
   },
   "source": [
    "## 2-2. Check"
   ]
  },
  {
   "cell_type": "code",
   "execution_count": null,
   "id": "8f031259",
   "metadata": {
    "ExecuteTime": {
     "end_time": "2025-06-30T06:35:54.452158Z",
     "start_time": "2025-06-30T06:35:54.450600Z"
    },
    "id": "8f031259"
   },
   "outputs": [],
   "source": [
    "# Check strategy-config file upload\n",
    "endpoint = 'upload/check/strategy-config'\n",
    "url = root_url + endpoint\n",
    "\n",
    "params = {\"tradeType\": \"futures\", \"strategy_name\": strategy_name}\n",
    "\n",
    "response = requests.get(url, headers=headers, params=params)\n",
    "print(response.json()['content'])"
   ]
  },
  {
   "cell_type": "markdown",
   "id": "u6RXuzFTchv5",
   "metadata": {
    "id": "u6RXuzFTchv5"
   },
   "source": [
    "## 2-3. Delete - (optional)"
   ]
  },
  {
   "cell_type": "code",
   "execution_count": null,
   "id": "2fcb734b",
   "metadata": {
    "ExecuteTime": {
     "end_time": "2025-06-30T06:32:58.198358Z",
     "start_time": "2025-06-30T06:32:58.171494Z"
    },
    "id": "2fcb734b"
   },
   "outputs": [],
   "source": [
    "# # Delete uploaded strategy settings file\n",
    "# endpoint = 'upload/delete/strategy-config'\n",
    "# url = root_url + endpoint\n",
    "\n",
    "# params = {\"tradeType\": \"futures\", \"strategy_name\":strategy_name}\n",
    "\n",
    "# # Sending a DELETE request\n",
    "# response = requests.delete(url, headers=headers, params=params)\n",
    "# print(response.json())"
   ]
  },
  {
   "cell_type": "markdown",
   "id": "yvU-pJkoGFJl",
   "metadata": {
    "id": "yvU-pJkoGFJl"
   },
   "source": [
    "# 3. System-config"
   ]
  },
  {
   "cell_type": "markdown",
   "id": "ffF39WNY0QDZ",
   "metadata": {
    "id": "ffF39WNY0QDZ"
   },
   "source": [
    "## 3-1. Upload / Update"
   ]
  },
  {
   "cell_type": "code",
   "execution_count": null,
   "id": "t3M0YKxmGGVX",
   "metadata": {
    "id": "t3M0YKxmGGVX"
   },
   "outputs": [],
   "source": [
    "# Upload or Update system-config file\n",
    "endpoint = \"upload/system-config\"\n",
    "url = root_url + endpoint\n",
    "\n",
    "system_config_name = \"futures_config\"\n",
    "base_path = \"/content/drive/MyDrive/NeoMatrixAI/futures\"\n",
    "file_path = os.path.join(base_path, system_config_name + \".py\")\n",
    "\n",
    "params = {\"tradeType\": \"futures\", \"overwrite\": True} # If overwrite is True, it will modify the existing file.\n",
    "\n",
    "with open(file_path, \"rb\") as f:\n",
    "    files = {\"file\": f}\n",
    "    response = requests.post(url, headers=headers, params=params, files=files)\n",
    "\n",
    "print(\"📂 Upload Response:\", response.json())"
   ]
  },
  {
   "cell_type": "markdown",
   "id": "BGG3swC70gQw",
   "metadata": {
    "id": "BGG3swC70gQw"
   },
   "source": [
    "## 3-2. Check"
   ]
  },
  {
   "cell_type": "code",
   "execution_count": null,
   "id": "EtGNfiyLGHh-",
   "metadata": {
    "id": "EtGNfiyLGHh-"
   },
   "outputs": [],
   "source": [
    "# Check system-config file upload\n",
    "endpoint = \"upload/check/system-config\"\n",
    "url = root_url + endpoint\n",
    "\n",
    "params = {\"tradeType\": \"futures\"}\n",
    "\n",
    "response = requests.get(url, headers=headers, params=params)\n",
    "print(response.json()['content'])"
   ]
  },
  {
   "cell_type": "markdown",
   "id": "a4wyxYXQGNMm",
   "metadata": {
    "id": "a4wyxYXQGNMm"
   },
   "source": [
    "## 3-3. Delete - (optional)"
   ]
  },
  {
   "cell_type": "code",
   "execution_count": null,
   "id": "VWXRJ8QqGOsa",
   "metadata": {
    "id": "VWXRJ8QqGOsa"
   },
   "outputs": [],
   "source": [
    "# # Delete uploaded strategy settings file\n",
    "# endpoint = 'upload/delete/system-config'\n",
    "# url = root_url + endpoint\n",
    "\n",
    "# params = {\"tradeType\":tradeType}\n",
    "\n",
    "# # Sending a DELETE request\n",
    "# response = requests.delete(url, headers=headers, params=params)\n",
    "# print(response.json())"
   ]
  },
  {
   "cell_type": "markdown",
   "id": "d2fbcae3",
   "metadata": {
    "id": "d2fbcae3"
   },
   "source": [
    "# 4. Run Auto-Trade"
   ]
  },
  {
   "cell_type": "code",
   "execution_count": null,
   "id": "f7120879",
   "metadata": {
    "ExecuteTime": {
     "end_time": "2025-06-30T06:36:01.410056Z",
     "start_time": "2025-06-30T06:36:01.408306Z"
    },
    "id": "f7120879"
   },
   "outputs": [],
   "source": [
    "# run-system\n",
    "endpoint = 'command/run-system'\n",
    "url = root_url + endpoint\n",
    "\n",
    "data = {\n",
    "    \"tradeType\": \"futures\",\n",
    "    \"strategy_name\": strategy_name,\n",
    "    \"trade_mode\": \"rebalancing\",\n",
    "    \"trade_env\": \"live\"\n",
    "}\n",
    "\n",
    "response = requests.post(url, headers=headers, json=data)\n",
    "\n",
    "try:\n",
    "    session_id = response.json()['session_id']\n",
    "    print('session_id :',response.json()['session_id'])\n",
    "    print('dashboard :',response.json()['dashboard_url'])\n",
    "except:\n",
    "    print('Error :',response.json()['message']['message'])\n",
    "\n",
    "    session_id = response.json()['message']['session_id']\n",
    "    print('session_id id :',session_id)\n",
    "\n",
    "    print('dashboard :',response.json()['message']['dashboard_url'])"
   ]
  },
  {
   "cell_type": "code",
   "execution_count": null,
   "id": "7d327a51",
   "metadata": {
    "ExecuteTime": {
     "end_time": "2025-06-30T06:36:03.753489Z",
     "start_time": "2025-06-30T06:36:03.752012Z"
    },
    "id": "7d327a51",
    "scrolled": true
   },
   "outputs": [],
   "source": [
    "# Just choose whether to set the \"save_log\" part to true or false, and Run it!\n",
    "!python /content/drive/MyDrive/NeoMatrixAI/module/log_viewer.py --user_key {USER_KEY} --session_id {session_id} --save_log true"
   ]
  },
  {
   "cell_type": "markdown",
   "id": "585ff7c5",
   "metadata": {
    "id": "585ff7c5"
   },
   "source": [
    "# Terminate"
   ]
  },
  {
   "cell_type": "code",
   "execution_count": null,
   "id": "ac399711",
   "metadata": {
    "ExecuteTime": {
     "end_time": "2025-06-30T06:36:06.011032Z",
     "start_time": "2025-06-30T06:36:06.009530Z"
    },
    "id": "ac399711"
   },
   "outputs": [],
   "source": [
    "# Terminate process\n",
    "# You must execute terminate to force liquidation of the current process.\n",
    "endpoint = 'command/terminate'\n",
    "url = root_url + endpoint\n",
    "\n",
    "params = {\"session_id\": f\"{session_id}\", \"tradeType\": 'futures'}\n",
    "\n",
    "response = requests.get(url, headers=headers, params=params)\n",
    "print(response.json())"
   ]
  },
  {
   "cell_type": "markdown",
   "id": "paTkCQ6s-Dlu",
   "metadata": {
    "id": "paTkCQ6s-Dlu"
   },
   "source": [
    "# Final Check"
   ]
  },
  {
   "cell_type": "markdown",
   "id": "c6950928",
   "metadata": {
    "id": "c6950928"
   },
   "source": [
    "### Check remaining assets after terminating"
   ]
  },
  {
   "cell_type": "code",
   "execution_count": null,
   "id": "7435995d",
   "metadata": {
    "ExecuteTime": {
     "end_time": "2025-06-30T06:36:08.540915Z",
     "start_time": "2025-06-30T06:36:08.539302Z"
    },
    "id": "7435995d"
   },
   "outputs": [],
   "source": [
    "from drive.MyDrive.NeoMatrixAI.module.futures import position, trade\n",
    "df_all_position = position.all_positions(USER_KEY, 'usdt-futures', 'USDT')\n",
    "df_all_position"
   ]
  },
  {
   "cell_type": "markdown",
   "id": "ZI-9JISY0r1U",
   "metadata": {
    "id": "ZI-9JISY0r1U"
   },
   "source": [
    "### ⚠️ Forced Liquidation\n",
    "- If the position value for each asset is greater than 1, forced liquidation is performed."
   ]
  },
  {
   "cell_type": "code",
   "execution_count": null,
   "id": "H9A_BW_3murU",
   "metadata": {
    "id": "H9A_BW_3murU"
   },
   "outputs": [],
   "source": [
    "print(f\"Found {len(df_all_position)} assets.\")\n",
    "\n",
    "if df_all_position.empty:\n",
    "    print(f\"No assets found in account. Nothing to sell.\")\n",
    "\n",
    "else:\n",
    "  df_res = trade.flash_close_position(USER_KEY, None, 'usdt-futures', None)\n",
    "  df_res"
   ]
  }
 ],
 "metadata": {
  "colab": {
   "provenance": []
  },
  "kernelspec": {
   "display_name": "aifinance",
   "language": "python",
   "name": "python3"
  },
  "language_info": {
   "codemirror_mode": {
    "name": "ipython",
    "version": 3
   },
   "file_extension": ".py",
   "mimetype": "text/x-python",
   "name": "python",
   "nbconvert_exporter": "python",
   "pygments_lexer": "ipython3",
   "version": "3.8.20"
  },
  "toc": {
   "base_numbering": 1,
   "nav_menu": {},
   "number_sections": false,
   "sideBar": true,
   "skip_h1_title": false,
   "title_cell": "Table of Contents",
   "title_sidebar": "Contents",
   "toc_cell": false,
   "toc_position": {},
   "toc_section_display": true,
   "toc_window_display": false
  }
 },
 "nbformat": 4,
 "nbformat_minor": 5
}
