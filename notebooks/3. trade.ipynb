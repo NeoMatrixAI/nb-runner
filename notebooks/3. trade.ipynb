{
 "cells": [
  {
   "cell_type": "markdown",
   "metadata": {
    "id": "JOgfoAtkekfe"
   },
   "source": [
    "# Mount Google Drive"
   ]
  },
  {
   "cell_type": "code",
   "execution_count": null,
   "metadata": {
    "id": "xl6uvndOnOZ9"
   },
   "outputs": [],
   "source": [
    "from google.colab import drive\n",
    "drive.mount('/content/drive')\n",
    "\n",
    "import warnings\n",
    "warnings.filterwarnings('ignore')"
   ]
  },
  {
   "cell_type": "markdown",
   "metadata": {
    "id": "_jzG-D4gs5M5"
   },
   "source": [
    "# Setting up API and user information"
   ]
  },
  {
   "cell_type": "code",
   "execution_count": null,
   "metadata": {
    "id": "u2drRTT4sxb2"
   },
   "outputs": [],
   "source": [
    "import requests\n",
    "import pandas as pd\n",
    "\n",
    "user_key = 'Input your User Key'\n",
    "\n",
    "root_url = f'https://aifapbt.fin.cloud.ainode.ai/{user_key}/'"
   ]
  },
  {
   "cell_type": "markdown",
   "metadata": {
    "id": "osxV1tqNs_DE"
   },
   "source": [
    "# health check"
   ]
  },
  {
   "cell_type": "code",
   "execution_count": null,
   "metadata": {
    "id": "QtbbWPhVs_ic"
   },
   "outputs": [],
   "source": [
    "requests.get(root_url).json()"
   ]
  },
  {
   "cell_type": "markdown",
   "metadata": {
    "id": "kriBvd2ItDxy"
   },
   "source": [
    "# upload to main server\n"
   ]
  },
  {
   "cell_type": "markdown",
   "metadata": {
    "id": "wFWDMcW9tDSa"
   },
   "source": [
    "### strategy\n"
   ]
  },
  {
   "cell_type": "code",
   "execution_count": null,
   "metadata": {
    "id": "nxlBZ3H8tJhq"
   },
   "outputs": [],
   "source": [
    "# Upload strategy file\n",
    "endpoint = 'upload/strategy/'\n",
    "url = root_url + endpoint\n",
    "\n",
    "file_base_path = \"/content/drive/MyDrive/~~~\" # Input a path that contains a proven your strategy\n",
    "strategy_nm = \"Input your Strategy file\" # example : \"Momentum.py\" (python file)\n",
    "file_path = file_base_path + strategy_nm\n",
    "\n",
    "with open(file_path, \"rb\") as f:\n",
    "    files = {\"file\": f}\n",
    "    response = requests.post(url, files=files)\n",
    "\n",
    "print(\"📂 Upload Response:\", response.json())"
   ]
  },
  {
   "cell_type": "code",
   "execution_count": null,
   "metadata": {
    "id": "CEI8MzfKtThz"
   },
   "outputs": [],
   "source": [
    "# Check strategy file upload\n",
    "endpoint = 'upload/check/strategy/'\n",
    "url = root_url + endpoint\n",
    "\n",
    "params = {\"strategy_name\": \"Input your strategy name\"} # example : \"Momentum.py\" --> \"Momentum\"\n",
    "\n",
    "response = requests.get(url, params=params)\n",
    "print(response.json()['content'])"
   ]
  },
  {
   "cell_type": "code",
   "execution_count": null,
   "metadata": {
    "id": "4iLUsR7Fl7V_"
   },
   "outputs": [],
   "source": [
    "# Check all uploaded strategy files\n",
    "endpoint = 'upload/check/all-files/strategy/'\n",
    "url = root_url + endpoint\n",
    "\n",
    "response = requests.get(url)\n",
    "print(response.json())"
   ]
  },
  {
   "cell_type": "code",
   "execution_count": null,
   "metadata": {
    "id": "JaKaENr1tVfK"
   },
   "outputs": [],
   "source": [
    "# # Delete uploaded strategy settings file\n",
    "# endpoint = 'upload/delete/strategy/'\n",
    "# url = root_url + endpoint\n",
    "\n",
    "# params = {\"strategy_name\": \"Input your strategy name\"} # example : \"Momentum.py\" --> \"Momentum\"\n",
    "\n",
    "# # Sending a DELETE request\n",
    "# response = requests.delete(url, params=params)\n",
    "# print(response.json())"
   ]
  },
  {
   "cell_type": "markdown",
   "metadata": {
    "id": "KJQGvISutpzP"
   },
   "source": [
    "### config"
   ]
  },
  {
   "cell_type": "code",
   "execution_count": null,
   "metadata": {
    "id": "g0OrrZmQtrG8"
   },
   "outputs": [],
   "source": [
    "# Upload strategy file\n",
    "endpoint = 'upload/config/'\n",
    "url = root_url + endpoint\n",
    "\n",
    "file_base_path = \"/content/drive/MyDrive/~~~\" # Input a path that contains your config\n",
    "strategy_nm = \"Input your Config file\" # example : \"Momentum.py\" (python file)\n",
    "file_path = file_base_path + strategy_nm\n",
    "\n",
    "with open(file_path, \"rb\") as f:\n",
    "    files = {\"file\": f}\n",
    "    response = requests.post(url, files=files)\n",
    "\n",
    "print(\"📂 Upload Response:\", response.json())"
   ]
  },
  {
   "cell_type": "code",
   "execution_count": null,
   "metadata": {
    "id": "WBDuBLRYtuYB"
   },
   "outputs": [],
   "source": [
    "# Check strategy file upload\n",
    "endpoint = 'upload/check/config/'\n",
    "url = root_url + endpoint\n",
    "\n",
    "params = {\"config_name\": \"Input your config name\"} # example : \"*_config.py\" --> \"*_config\"\n",
    "\n",
    "response = requests.get(url, params=params)\n",
    "print(response.json()['content'])"
   ]
  },
  {
   "cell_type": "code",
   "execution_count": null,
   "metadata": {
    "id": "hJANuN3QjHKn"
   },
   "outputs": [],
   "source": [
    "# Check all uploaded config files\n",
    "endpoint = 'upload/check/all-files/config/'\n",
    "url = root_url + endpoint\n",
    "\n",
    "response = requests.get(url)\n",
    "print(response.json())"
   ]
  },
  {
   "cell_type": "code",
   "execution_count": null,
   "metadata": {
    "id": "xrNNhlnrKjS5"
   },
   "outputs": [],
   "source": [
    "# # Delete uploaded strategy settings file\n",
    "# endpoint = 'upload/delete/config/'\n",
    "# url = root_url + endpoint\n",
    "\n",
    "# params = {\"config_name\": \"Input your config name\"} # example : \"*_config.py\" --> \"*_config\"\n",
    "\n",
    "# # Sending a DELETE request\n",
    "# response = requests.delete(url, params=params)\n",
    "# print(response.json())"
   ]
  },
  {
   "cell_type": "markdown",
   "metadata": {
    "id": "Na0O3B6bKqn1"
   },
   "source": [
    "# run auto trade"
   ]
  },
  {
   "cell_type": "code",
   "execution_count": null,
   "metadata": {
    "id": "djx0kiYdKuDk"
   },
   "outputs": [],
   "source": [
    "# run-system\n",
    "endpoint = 'command/run-system'\n",
    "url = root_url + endpoint\n",
    "\n",
    "data = {\n",
    "    \"strategy_name\": \"Input your strategy name\", # example : \"Momentum.py\" --> \"Momentum\"\n",
    "    \"method\": \"rebalancing\" # Select : \"general\" , \"rebalancing\" , \"volatility targeting\"\n",
    "}\n",
    "\n",
    "response = requests.post(url, json=data)\n",
    "\n",
    "try:\n",
    "  session_id = response.json()['session_id']\n",
    "  print('session id :',response.json()['session_id'])\n",
    "  print('dashboard :',response.json()['dashboard_url'])\n",
    "except:\n",
    "  print('Error :',response.json()['message']['message'])\n",
    "\n",
    "  session_id = response.json()['message']['session_id']\n",
    "  print('session id :',session_id)\n",
    "\n",
    "  print('dashboard :',response.json()['message']['dashboard_url'])"
   ]
  },
  {
   "cell_type": "code",
   "execution_count": null,
   "metadata": {
    "collapsed": true,
    "id": "l6Y0ptIigLOV"
   },
   "outputs": [],
   "source": [
    "# !python {your path for 'log_viewer.py'} --user_key {user_key} --session_id {session_id} --save_log true/false\n",
    "!python /content/drive/MyDrive/~~~/log_viewer.py --user_key {user_key} --session_id {session_id} --save_log true"
   ]
  },
  {
   "cell_type": "markdown",
   "metadata": {
    "id": "k4yIgqMzgDj6"
   },
   "source": [
    "# terminate"
   ]
  },
  {
   "cell_type": "code",
   "execution_count": null,
   "metadata": {
    "id": "dSiddOG2Qdxa"
   },
   "outputs": [],
   "source": [
    "# terminate process\n",
    "# You must execute terminate to force liquidation of the current process.\n",
    "endpoint = 'command/terminate/'\n",
    "url = root_url + endpoint\n",
    "\n",
    "params = {\"session_id\": f\"{session_id}\"}\n",
    "\n",
    "response = requests.get(url, params=params)\n",
    "print(response.json())"
   ]
  },
  {
   "cell_type": "markdown",
   "metadata": {
    "id": "KPXFyB9wKb41"
   },
   "source": [
    "# Confirm position holding after Terminating"
   ]
  },
  {
   "cell_type": "code",
   "execution_count": null,
   "metadata": {
    "id": "8mckl_SNIVPM"
   },
   "outputs": [],
   "source": [
    "def all_positions(user_key, productType, marginCoin):\n",
    "    url = f\"https://bitgettrader.fin.cloud.ainode.ai/{user_key}/future/position/all-positions\"\n",
    "\n",
    "    payload = {\n",
    "        \"user_key\": user_key,\n",
    "        \"all_positions\": {\n",
    "            \"productType\": productType,\n",
    "            'marginCoin': marginCoin.upper()\n",
    "        }\n",
    "    }\n",
    "\n",
    "    response = requests.post(url, json=payload)\n",
    "    data = response.json()['data']\n",
    "    df = pd.DataFrame(data)\n",
    "    if df.empty:\n",
    "        print('Everything has been liquidated')\n",
    "        pass\n",
    "    return df\n",
    "\n",
    "\n",
    "productType = 'usdt-futures' # use demo version for test. Originally 'usdt-futures'\n",
    "marginCoin = 'usdt' # use demo version for test. Originally 'usdt'\n",
    "df = all_positions(user_key, productType, marginCoin)\n",
    "df"
   ]
  }
 ],
 "metadata": {
  "colab": {
   "provenance": []
  },
  "kernelspec": {
   "display_name": "Python 3",
   "name": "python3"
  },
  "language_info": {
   "name": "python"
  }
 },
 "nbformat": 4,
 "nbformat_minor": 0
}
