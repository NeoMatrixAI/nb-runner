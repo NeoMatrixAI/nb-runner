{
 "cells": [
  {
   "cell_type": "markdown",
   "id": "1e375e02",
   "metadata": {},
   "source": [
    "# Description\n",
    "- This ipynb file is a test notebook to verify that your custom strategy has been implemented correctly on our system.\n",
    "\n",
    "#### 1. Register Api key\n",
    " - Input your `USER_KEY` and run the shell to check if the env file is created\n",
    " \n",
    "#### 2. Get Data\n",
    " - Download `sample data` and `strategy/config` files\n",
    " \n",
    "#### 3. Verify strategy\n",
    " - Test the strategy and config files using `sample data` and verify that the results are returned as a list.\n",
    " - To use a different custom strategy, modify the import path accordingly and then run the notebook.\n",
    "\n",
    "#### - Original GitHub Link : https://github.com/NeoMatrixAI/nb-runner/tree/main/notebooks"
   ]
  },
  {
   "cell_type": "code",
   "execution_count": 1,
   "id": "7082e001",
   "metadata": {
    "ExecuteTime": {
     "end_time": "2025-06-27T04:45:45.228190Z",
     "start_time": "2025-06-27T04:45:45.204721Z"
    }
   },
   "outputs": [],
   "source": [
    "!pip install dotenv"
   ]
  },
  {
   "cell_type": "markdown",
   "id": "39bd711a",
   "metadata": {},
   "source": [
    "# Register Api key"
   ]
  },
  {
   "cell_type": "code",
   "execution_count": 4,
   "id": "92be20ef",
   "metadata": {
    "ExecuteTime": {
     "end_time": "2025-06-30T06:18:27.981609Z",
     "start_time": "2025-06-30T06:18:27.980020Z"
    }
   },
   "outputs": [],
   "source": [
    "from dotenv import load_dotenv\n",
    "import os\n",
    "\n",
    "env_dir = os.path.join(os.getcwd(), \"module\")\n",
    "env_path = os.path.join(env_dir, \".env\")\n",
    "\n",
    "os.makedirs(env_dir, exist_ok=True)\n",
    "\n",
    "USER_KEY = \"62e52057c8575b4e57b8c7c6e4558a9f\"      # <------------------ Input your User key\n",
    "DATA_KEY = \"a71eaf04-802f-40be-93c2-5bee2548f4db\"  # <------------------ Fixed Data Api key\n",
    "\n",
    "with open(env_path, \"w\") as f:\n",
    "    f.write(f\"USER_KEY={USER_KEY}\\n\")\n",
    "    f.write(f\"DATA_KEY={DATA_KEY}\\n\")\n",
    "print(\".env file is created.\")\n",
    "\n",
    "load_dotenv(dotenv_path=env_path, override=True)\n",
    "\n",
    "USER_KEY = os.getenv(\"USER_KEY\")\n",
    "DATA_KEY = os.getenv(\"DATA_KEY\")\n",
    "\n",
    "print(\"USER_KEY:\", USER_KEY)\n",
    "print(\"DATA_KEY:\", DATA_KEY)"
   ]
  },
  {
   "cell_type": "markdown",
   "id": "0be43dcf",
   "metadata": {},
   "source": [
    "# Get Sample Data"
   ]
  },
  {
   "cell_type": "code",
   "execution_count": 1,
   "id": "6d12e8c3",
   "metadata": {
    "ExecuteTime": {
     "end_time": "2025-06-29T22:59:07.463006Z",
     "start_time": "2025-06-29T22:59:03.522545Z"
    },
    "collapsed": true
   },
   "outputs": [],
   "source": [
    "# !wget --no-check-certificate 'https://docs.google.com/uc?export=download&id=1ZZw4u3uImeuooj-v10VDX_utgEjsfVv4' -O df.csv # sample data\n",
    "# !wget https://raw.githubusercontent.com/NeoMatrixAI/strategy/main/future/multi_period_momentum/multi_period_momentum.py # sample strategy\n",
    "# !wget https://raw.githubusercontent.com/NeoMatrixAI/strategy/main/future/multi_period_momentum/multi_period_momentum_config.py # sample config"
   ]
  },
  {
   "cell_type": "code",
   "execution_count": null,
   "id": "8341210e",
   "metadata": {
    "ExecuteTime": {
     "end_time": "2025-06-29T22:59:14.957543Z",
     "start_time": "2025-06-29T22:59:14.939189Z"
    }
   },
   "outputs": [],
   "source": [
    "import pandas as pd\n",
    "df = pd.read_csv('df.csv').set_index('datetime')\n",
    "df"
   ]
  },
  {
   "cell_type": "markdown",
   "id": "6f7c2ca7",
   "metadata": {},
   "source": [
    "# Verify strategy"
   ]
  },
  {
   "cell_type": "code",
   "execution_count": 2,
   "id": "8b8a9976",
   "metadata": {
    "ExecuteTime": {
     "end_time": "2025-06-30T06:18:24.605144Z",
     "start_time": "2025-06-30T06:18:24.603422Z"
    }
   },
   "outputs": [],
   "source": [
    "# example strategy, config\n",
    "import multi_period_momentum as strategy       # Replace with your own strategy file\n",
    "import multi_period_momentum_config as config  # Replace with your own config file\n",
    "\n",
    "# run to verify strategy\n",
    "config_dict = {'strategy_config': config.strategy_config}\n",
    "long_candidate, short_candidate = strategy.strategy(df, config_dict)\n",
    "print(f'long_candidate symbol : {long_candidate}')\n",
    "print(f'short_candidate symbol : {short_candidate}')"
   ]
  }
 ],
 "metadata": {
  "kernelspec": {
   "display_name": "aifinance",
   "language": "python",
   "name": "python3"
  },
  "language_info": {
   "codemirror_mode": {
    "name": "ipython",
    "version": 3
   },
   "file_extension": ".py",
   "mimetype": "text/x-python",
   "name": "python",
   "nbconvert_exporter": "python",
   "pygments_lexer": "ipython3",
   "version": "3.8.20"
  },
  "toc": {
   "base_numbering": 1,
   "nav_menu": {},
   "number_sections": false,
   "sideBar": true,
   "skip_h1_title": false,
   "title_cell": "Table of Contents",
   "title_sidebar": "Contents",
   "toc_cell": false,
   "toc_position": {},
   "toc_section_display": true,
   "toc_window_display": false
  }
 },
 "nbformat": 4,
 "nbformat_minor": 5
}
