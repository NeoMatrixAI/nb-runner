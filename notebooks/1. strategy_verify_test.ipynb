{
 "cells": [
  {
   "cell_type": "markdown",
   "id": "1e375e02",
   "metadata": {},
   "source": [
    "# Description\n",
    "- This ipynb file is a test notebook to verify that your custom strategy has been implemented correctly on our system.\n",
    "\n",
    "- This notebook is preconfigured with default values to work easily on Google Colab. If you are using a local Python notebook environment instead of Colab, please pay close attention to all path configurations.\n",
    "\n",
    "#### 1. Register Api key\n",
    " - Input your `USER_KEY` and run the shell to check if the env file is created\n",
    "\n",
    "#### 2. Get Data\n",
    " - Download sample data and relevant strategy/config files for both Spot and Futures markets:\n",
    "\n",
    " - Spot:\n",
    "\n",
    "  📁 Strategy file: spot/{strategy_name}/{strategy_name}.py\n",
    "\n",
    "  ⚙️ Strategy config: spot/{strategy_name}/{strategy_name}_config.py\n",
    "\n",
    "  ⚙️ System config: spot/spot_config.py\n",
    "\n",
    " - Futures:\n",
    "\n",
    "  📁 Strategy file: futures/{strategy_name}/{strategy_name}.py\n",
    "\n",
    "  ⚙️ Strategy config: futures/{strategy_name}/{strategy_name}_config.py\n",
    "\n",
    "\n",
    "#### 3. Verify strategy\n",
    " - Test the strategy and config files using `sample data` and verify that the results are returned as a list.\n",
    " - To use a different custom strategy, modify the import path accordingly and then run the notebook.\n",
    "\n",
    "#### - Original GitHub Link : https://github.com/NeoMatrixAI/nb-runner/tree/main/notebooks"
   ]
  },
  {
   "cell_type": "markdown",
   "id": "c1503b3b",
   "metadata": {},
   "source": [
    "# Mount Google Drive"
   ]
  },
  {
   "cell_type": "code",
   "execution_count": null,
   "id": "0ee72a2c",
   "metadata": {},
   "outputs": [],
   "source": [
    "from google.colab import drive\n",
    "drive.mount('/content/drive')\n",
    "\n",
    "import warnings\n",
    "warnings.filterwarnings('ignore')"
   ]
  },
  {
   "cell_type": "markdown",
   "id": "39bd711a",
   "metadata": {},
   "source": [
    "# Register Api key"
   ]
  },
  {
   "cell_type": "code",
   "execution_count": null,
   "id": "62b04fa1",
   "metadata": {},
   "outputs": [],
   "source": [
    "!pip install dotenv"
   ]
  },
  {
   "cell_type": "code",
   "execution_count": null,
   "id": "92be20ef",
   "metadata": {
    "ExecuteTime": {
     "end_time": "2025-06-30T06:18:27.981609Z",
     "start_time": "2025-06-30T06:18:27.980020Z"
    }
   },
   "outputs": [],
   "source": [
    "from dotenv import load_dotenv\n",
    "import os\n",
    "\n",
    "env_dir = os.path.join(os.getcwd(), \"/content/drive/MyDrive/NeoMatrixAI/module\")\n",
    "env_path = os.path.join(env_dir, \".env\")\n",
    "\n",
    "os.makedirs(env_dir, exist_ok=True)\n",
    "\n",
    "USER_KEY = \"~~~~~~~~~~~~~~~~~~~~~~~~~~~~~~~~~~~~\"  # <------------------ Input your User key\n",
    "DATA_KEY = \"a71eaf04-802f-40be-93c2-5bee2548f4db\"  # <------------------ Fixed Data Api key\n",
    "\n",
    "with open(env_path, \"w\") as f:\n",
    "    f.write(f\"USER_KEY={USER_KEY}\\n\")\n",
    "    f.write(f\"DATA_KEY={DATA_KEY}\\n\")\n",
    "print(\".env file is created.\")\n",
    "\n",
    "load_dotenv(dotenv_path=env_path, override=True)\n",
    "\n",
    "USER_KEY = os.getenv(\"USER_KEY\")\n",
    "DATA_KEY = os.getenv(\"DATA_KEY\")\n",
    "\n",
    "print(\"USER_KEY:\", USER_KEY)\n",
    "print(\"DATA_KEY:\", DATA_KEY)"
   ]
  },
  {
   "cell_type": "markdown",
   "id": "0be43dcf",
   "metadata": {},
   "source": [
    "# Get Sample Data"
   ]
  },
  {
   "cell_type": "code",
   "execution_count": null,
   "id": "6d12e8c3",
   "metadata": {
    "ExecuteTime": {
     "end_time": "2025-06-29T22:59:07.463006Z",
     "start_time": "2025-06-29T22:59:03.522545Z"
    },
    "collapsed": true
   },
   "outputs": [],
   "source": [
    "sample_spot_strategy_nm_1 = \"coinbase50index\"\n",
    "sample_spot_strategy_nm_2 = \"sma\"\n",
    "sample_futures_strategy_nm = \"multi_period_momentum\"\n",
    "\n",
    "os.makedirs(\"/content/drive/MyDrive/NeoMatrixAI\", exist_ok=True)\n",
    "os.makedirs(f\"/content/drive/MyDrive/NeoMatrixAI/spot/{sample_spot_strategy_nm_1}\", exist_ok=True)\n",
    "os.makedirs(f\"/content/drive/MyDrive/NeoMatrixAI/spot/{sample_spot_strategy_nm_2}\", exist_ok=True)\n",
    "os.makedirs(f\"/content/drive/MyDrive/NeoMatrixAI/futures/{sample_futures_strategy_nm}\", exist_ok=True)\n",
    "\n",
    "!wget --no-check-certificate 'https://docs.google.com/uc?export=download&id=1ZZw4u3uImeuooj-v10VDX_utgEjsfVv4' -O /content/drive/MyDrive/NeoMatrixAI/df_sample.csv # sample data\n",
    "\n",
    "# spot system config\n",
    "!wget https://raw.githubusercontent.com/NeoMatrixAI/strategy/main/spot/spot_config.py -O /content/drive/MyDrive/NeoMatrixAI/spot/spot_config.py\n",
    "\n",
    "# spot sample strategy - sma\n",
    "!wget https://raw.githubusercontent.com/NeoMatrixAI/strategy/main/spot/sma/sma.py -O /content/drive/MyDrive/NeoMatrixAI/spot/sma/sma.py\n",
    "!wget https://raw.githubusercontent.com/NeoMatrixAI/strategy/main/spot/sma/sma_config.py -O /content/drive/MyDrive/NeoMatrixAI/spot/sma/sma_config.py\n",
    "\n",
    "# spot sample strategy - coinbase50index\n",
    "!wget https://raw.githubusercontent.com/NeoMatrixAI/strategy/main/spot/coinbase50index/coinbase50index.py -O /content/drive/MyDrive/NeoMatrixAI/spot/coinbase50index/coinbase50index.py\n",
    "!wget https://raw.githubusercontent.com/NeoMatrixAI/strategy/main/spot/coinbase50index/coinbase50index_config.py -O /content/drive/MyDrive/NeoMatrixAI/spot/coinbase50index/coinbase50index_config.py\n",
    "\n",
    "# futures sample strategy - multi_period_momentum\n",
    "!wget https://raw.githubusercontent.com/NeoMatrixAI/strategy/main/futures/multi_period_momentum/multi_period_momentum.py -O /content/drive/MyDrive/NeoMatrixAI/futures/multi_period_momentum/multi_period_momentum.py\n",
    "!wget https://raw.githubusercontent.com/NeoMatrixAI/strategy/main/futures/multi_period_momentum/multi_period_momentum_config.py -O /content/drive/MyDrive/NeoMatrixAI/futures/multi_period_momentum/multi_period_momentum_config.py"
   ]
  },
  {
   "cell_type": "code",
   "execution_count": null,
   "id": "8341210e",
   "metadata": {
    "ExecuteTime": {
     "end_time": "2025-06-29T22:59:14.957543Z",
     "start_time": "2025-06-29T22:59:14.939189Z"
    }
   },
   "outputs": [],
   "source": [
    "import pandas as pd\n",
    "df = pd.read_csv('/content/drive/MyDrive/NeoMatrixAI/df_sample.csv').set_index('datetime')\n",
    "df"
   ]
  },
  {
   "cell_type": "markdown",
   "id": "6f7c2ca7",
   "metadata": {},
   "source": [
    "# Verify Spot strategy"
   ]
  },
  {
   "cell_type": "code",
   "execution_count": null,
   "id": "8b8a9976",
   "metadata": {
    "ExecuteTime": {
     "end_time": "2025-06-30T06:18:24.605144Z",
     "start_time": "2025-06-30T06:18:24.603422Z"
    }
   },
   "outputs": [],
   "source": [
    "# example strategy, config\n",
    "import drive.MyDrive.NeoMatrixAI.spot.sma.sma as strategy       # Replace with your own strategy file\n",
    "import drive.MyDrive.NeoMatrixAI.spot.sma.sma_config as config  # Replace with your own config file\n",
    "\n",
    "# run to verify strategy\n",
    "config_dict = {'strategy_config': config.strategy_config}\n",
    "result = strategy.strategy(df, config_dict)\n",
    "result"
   ]
  },
  {
   "cell_type": "code",
   "execution_count": null,
   "id": "47010a4d",
   "metadata": {},
   "outputs": [],
   "source": [
    "# example strategy, config\n",
    "import drive.MyDrive.NeoMatrixAI.spot.coinbase50index.coinbase50index as strategy       # Replace with your own strategy file\n",
    "import drive.MyDrive.NeoMatrixAI.spot.coinbase50index.coinbase50index_config as config  # Replace with your own config file\n",
    "\n",
    "# run to verify strategy\n",
    "config_dict = {'strategy_config': config.strategy_config}\n",
    "result = strategy.strategy(df, config_dict)\n",
    "result"
   ]
  },
  {
   "cell_type": "markdown",
   "id": "4ded2014",
   "metadata": {},
   "source": [
    "# Verify Futures strategy"
   ]
  },
  {
   "cell_type": "code",
   "execution_count": null,
   "id": "6475c875",
   "metadata": {},
   "outputs": [],
   "source": [
    "# example strategy, config\n",
    "import drive.MyDrive.NeoMatrixAI.futures.multi_period_momentum.multi_period_momentum as strategy       # Replace with your own strategy file\n",
    "import drive.MyDrive.NeoMatrixAI.futures.multi_period_momentum.multi_period_momentum_config as config  # Replace with your own config file\n",
    "\n",
    "# run to verify strategy\n",
    "config_dict = {'strategy_config': config.strategy_config}\n",
    "long_candidate, short_candidate = strategy.strategy(df, config_dict)\n",
    "print(f'long_candidate symbol : {long_candidate}')\n",
    "print(f'short_candidate symbol : {short_candidate}')"
   ]
  }
 ],
 "metadata": {
  "kernelspec": {
   "display_name": "aifinance",
   "language": "python",
   "name": "python3"
  },
  "language_info": {
   "codemirror_mode": {
    "name": "ipython",
    "version": 3
   },
   "file_extension": ".py",
   "mimetype": "text/x-python",
   "name": "python",
   "nbconvert_exporter": "python",
   "pygments_lexer": "ipython3",
   "version": "3.8.20"
  },
  "toc": {
   "base_numbering": 1,
   "nav_menu": {},
   "number_sections": false,
   "sideBar": true,
   "skip_h1_title": false,
   "title_cell": "Table of Contents",
   "title_sidebar": "Contents",
   "toc_cell": false,
   "toc_position": {},
   "toc_section_display": true,
   "toc_window_display": false
  }
 },
 "nbformat": 4,
 "nbformat_minor": 5
}
