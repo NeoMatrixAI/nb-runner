{
 "cells": [
  {
   "cell_type": "markdown",
   "id": "98be6fce",
   "metadata": {},
   "source": [
    "# Description\n",
    "- This ipynb file is used to run live trading.\n",
    "- Users trade in real time based on strategies that have been verified or backtested successfully.\n",
    "\n",
    "1. Load API Key\n",
    "2. Upload to Main Server\n",
    "   - Upload both the strategy file and the config file to the server.  \n",
    "2-1. Upload strategy  \n",
    "2-2. Upload strategy-config  \n",
    "2-3. Upload system-config\n",
    "\n",
    "3. DELETE - Optional\n",
    "4. Run Auto-Trade\n",
    "   - Download the log_viewer.py file\n",
    "   - Run the #run-system cell\n",
    "   - Then, execute the terminal command to run log_viewer.py\n",
    "5. Terminate\n",
    "   - If you attempt to retry after receiving a session ID, you may get a message indicating that the session already exists.\n",
    "   - In this case, execute terminate to delete the current session ID, then run run-system again to generate a new session ID.\n",
    "6. Confirm Position Holding After Terminating\n",
    "\n",
    "---\n",
    "# Dashboard\n",
    "- userkey : The personal userkey received via email  \n",
    "- strategy_name : The name of the strategy used for trading  \n",
    "- symbol, startDate, endDate are variables used in the \"Indicator Results\" panel below.  \n",
    "- symbol : Among the currently held symbols, which one do you want to select to view the indicator results?  \n",
    "- startDate, endDate : The period for calculating the indicator results (format: yyyy-mm-dd HH:MM)  \n",
    "\n",
    "If you set only userkey and strategy_name, the \"Current Position\" panel will show the current asset status.\n",
    "\n",
    "---\n",
    "\n",
    "#### ⚠️ Important\n",
    " - If the `.env` file does not contain `USER_KEY` and `DATA_KEY`, you must register the `USER_KEY` and generate the configuration file using `\"1. strategy_verify_test.ipynb\"`.\n",
    "\n",
    "---\n",
    "\n",
    "#### - Original GitHub Link : https://github.com/NeoMatrixAI/nb-runner/tree/main/notebooks"
   ]
  },
  {
   "cell_type": "markdown",
   "id": "8248d143",
   "metadata": {},
   "source": [
    "# Mount Google Drive"
   ]
  },
  {
   "cell_type": "code",
   "execution_count": null,
   "id": "766879cf",
   "metadata": {},
   "outputs": [],
   "source": [
    "from google.colab import drive\n",
    "drive.mount('/content/drive')\n",
    "\n",
    "import warnings\n",
    "warnings.filterwarnings('ignore')"
   ]
  },
  {
   "cell_type": "markdown",
   "id": "65cc6973",
   "metadata": {},
   "source": [
    "# Load Api Key"
   ]
  },
  {
   "cell_type": "code",
   "execution_count": null,
   "id": "dc30841d",
   "metadata": {},
   "outputs": [],
   "source": [
    "!pip install dotenv"
   ]
  },
  {
   "cell_type": "code",
   "execution_count": null,
   "id": "c02d0d2d",
   "metadata": {
    "ExecuteTime": {
     "end_time": "2025-06-30T06:35:36.924485Z",
     "start_time": "2025-06-30T06:35:36.923053Z"
    }
   },
   "outputs": [],
   "source": [
    "from dotenv import load_dotenv\n",
    "import os\n",
    "\n",
    "load_dotenv(dotenv_path= \"/content/drive/MyDrive/NeoMatrixAI/module/.env\")\n",
    "\n",
    "USER_KEY = os.getenv(\"USER_KEY\")\n",
    "DATA_KEY = os.getenv(\"DATA_KEY\")\n",
    "\n",
    "print(\"USER_KEY:\", USER_KEY if USER_KEY else \"Not found\")\n",
    "print(\"DATA_KEY:\", DATA_KEY if DATA_KEY else \"Not found\")"
   ]
  },
  {
   "cell_type": "markdown",
   "id": "445b0739",
   "metadata": {},
   "source": [
    "# health check"
   ]
  },
  {
   "cell_type": "code",
   "execution_count": null,
   "id": "e869b347",
   "metadata": {
    "ExecuteTime": {
     "end_time": "2025-06-30T06:35:38.906393Z",
     "start_time": "2025-06-30T06:35:38.904907Z"
    }
   },
   "outputs": [],
   "source": [
    "import requests\n",
    "\n",
    "root_url = f'https://aifapbt.fin.cloud.ainode.ai/{USER_KEY}/'\n",
    "requests.get(root_url).json()"
   ]
  },
  {
   "cell_type": "markdown",
   "id": "993f7b59",
   "metadata": {},
   "source": [
    "# upload to main server"
   ]
  },
  {
   "cell_type": "markdown",
   "id": "24589be1",
   "metadata": {},
   "source": [
    "## strategy"
   ]
  },
  {
   "cell_type": "code",
   "execution_count": null,
   "id": "b22fefe7",
   "metadata": {
    "ExecuteTime": {
     "end_time": "2025-06-30T06:30:49.716459Z",
     "start_time": "2025-06-30T06:30:49.714537Z"
    }
   },
   "outputs": [],
   "source": [
    "tradeType = 'spot'\n",
    "strategy_name = \"coinbase50index\""
   ]
  },
  {
   "cell_type": "code",
   "execution_count": null,
   "id": "141b6c5d",
   "metadata": {
    "ExecuteTime": {
     "end_time": "2025-06-30T06:35:41.370481Z",
     "start_time": "2025-06-30T06:35:41.368874Z"
    }
   },
   "outputs": [],
   "source": [
    "# Upload strategy file\n",
    "endpoint = 'upload/strategy'\n",
    "url = root_url + endpoint\n",
    "\n",
    "base_path = \"/content/drive/MyDrive/NeoMatrixAI/spot\"\n",
    "params = {'tradeType':tradeType}\n",
    "file_path = os.path.join(base_path, strategy_name, strategy_name + \".py\")\n",
    "\n",
    "with open(file_path, \"rb\") as f:\n",
    "    files = {\"file\": f}\n",
    "    response = requests.post(url, params=params, files=files)\n",
    "\n",
    "print(\"📂 Upload Response:\", response.json())"
   ]
  },
  {
   "cell_type": "code",
   "execution_count": null,
   "id": "615960b9",
   "metadata": {
    "ExecuteTime": {
     "end_time": "2025-06-30T06:35:43.677083Z",
     "start_time": "2025-06-30T06:35:43.675566Z"
    }
   },
   "outputs": [],
   "source": [
    "# Check strategy file upload\n",
    "endpoint = 'upload/check/strategy'\n",
    "url = root_url + endpoint\n",
    "\n",
    "params = {\"tradeType\":tradeType, \"strategy_name\": strategy_name}\n",
    "\n",
    "response = requests.get(url, params=params)\n",
    "print(response.json()['content'])"
   ]
  },
  {
   "cell_type": "code",
   "execution_count": null,
   "id": "ad048f86",
   "metadata": {
    "ExecuteTime": {
     "end_time": "2025-06-30T06:35:46.525116Z",
     "start_time": "2025-06-30T06:35:46.523556Z"
    }
   },
   "outputs": [],
   "source": [
    "# Check all uploaded strategy files\n",
    "endpoint = 'upload/check/all-files/strategy'\n",
    "url = root_url + endpoint\n",
    "\n",
    "response = requests.get(url)\n",
    "print(response.json())"
   ]
  },
  {
   "cell_type": "markdown",
   "id": "5a69f02a",
   "metadata": {},
   "source": [
    "## DELETE"
   ]
  },
  {
   "cell_type": "code",
   "execution_count": null,
   "id": "b4c88077",
   "metadata": {
    "ExecuteTime": {
     "end_time": "2025-06-30T06:27:31.348593Z",
     "start_time": "2025-06-30T06:27:31.347044Z"
    }
   },
   "outputs": [],
   "source": [
    "# # Delete uploaded strategy settings file\n",
    "# endpoint = 'upload/delete/strategy'\n",
    "# url = root_url + endpoint\n",
    "\n",
    "# params = {\"tradeType\":tradeType, \"strategy_name\": strategy_name}\n",
    "\n",
    "# # Sending a DELETE request\n",
    "# response = requests.delete(url, params=params)\n",
    "# print(response.json())"
   ]
  },
  {
   "cell_type": "markdown",
   "id": "2607fe59",
   "metadata": {},
   "source": [
    "## strategy config"
   ]
  },
  {
   "cell_type": "code",
   "execution_count": null,
   "id": "deb3f013",
   "metadata": {
    "ExecuteTime": {
     "end_time": "2025-06-30T06:35:48.923548Z",
     "start_time": "2025-06-30T06:35:48.921937Z"
    }
   },
   "outputs": [],
   "source": [
    "# Upload config file\n",
    "endpoint = 'upload/strategy-config'\n",
    "url = root_url + endpoint\n",
    "\n",
    "config_name = strategy_name + \"_config\"\n",
    "base_path = \"/content/drive/MyDrive/NeoMatrixAI/spot/\"\n",
    "file_path = os.path.join(base_path, strategy_name, config_name + \".py\")\n",
    "\n",
    "params = {'tradeType':tradeType}\n",
    "\n",
    "with open(file_path, \"rb\") as f:\n",
    "    files = {\"file\": f}\n",
    "    response = requests.post(url, params=params, files=files)\n",
    "\n",
    "print(\"📂 Upload Response:\", response.json())"
   ]
  },
  {
   "cell_type": "code",
   "execution_count": null,
   "id": "8f031259",
   "metadata": {
    "ExecuteTime": {
     "end_time": "2025-06-30T06:35:54.452158Z",
     "start_time": "2025-06-30T06:35:54.450600Z"
    }
   },
   "outputs": [],
   "source": [
    "# Check config file upload\n",
    "endpoint = 'upload/check/strategy-config'\n",
    "url = root_url + endpoint\n",
    "\n",
    "params = {\"tradeType\":tradeType, \"strategy_name\": strategy_name}\n",
    "\n",
    "response = requests.get(url, params=params)\n",
    "print(response.json()['content'])"
   ]
  },
  {
   "cell_type": "code",
   "execution_count": null,
   "id": "6b304320",
   "metadata": {
    "ExecuteTime": {
     "end_time": "2025-06-30T06:35:56.509412Z",
     "start_time": "2025-06-30T06:35:56.507871Z"
    }
   },
   "outputs": [],
   "source": [
    "# Check all uploaded config files\n",
    "endpoint = 'upload/check/all-files/strategy-config'\n",
    "url = root_url + endpoint\n",
    "\n",
    "response = requests.get(url)\n",
    "print(response.json())"
   ]
  },
  {
   "cell_type": "markdown",
   "id": "14201b77",
   "metadata": {},
   "source": [
    "## DELETE"
   ]
  },
  {
   "cell_type": "code",
   "execution_count": null,
   "id": "2fcb734b",
   "metadata": {
    "ExecuteTime": {
     "end_time": "2025-06-30T06:32:58.198358Z",
     "start_time": "2025-06-30T06:32:58.171494Z"
    }
   },
   "outputs": [],
   "source": [
    "# # Delete uploaded strategy settings file\n",
    "# endpoint = 'upload/delete/strategy-config'\n",
    "# url = root_url + endpoint\n",
    "\n",
    "# config_name = strategy_name + \"_config\"\n",
    "# params = {\"tradeType\":tradeType, \"strategy_name\":strategy_name}\n",
    "\n",
    "# # Sending a DELETE request\n",
    "# response = requests.delete(url, params=params)\n",
    "# print(response.json())"
   ]
  },
  {
   "cell_type": "markdown",
   "id": "4da03ae8",
   "metadata": {},
   "source": [
    "# system config"
   ]
  },
  {
   "cell_type": "code",
   "execution_count": null,
   "id": "79e33f30",
   "metadata": {},
   "outputs": [],
   "source": [
    "# Upload config file\n",
    "endpoint = 'upload/system-config'\n",
    "url = root_url + endpoint\n",
    "\n",
    "config_name = tradeType + \"_config\"\n",
    "base_path = \"/content/drive/MyDrive/NeoMatrixAI/spot\"\n",
    "file_path = os.path.join(base_path, config_name + \".py\")\n",
    "\n",
    "params = {'tradeType':tradeType}\n",
    "\n",
    "with open(file_path, \"rb\") as f:\n",
    "    files = {\"file\": f}\n",
    "    response = requests.post(url, params=params, files=files)\n",
    "\n",
    "print(\"📂 Upload Response:\", response.json())"
   ]
  },
  {
   "cell_type": "code",
   "execution_count": null,
   "id": "70d87c40",
   "metadata": {},
   "outputs": [],
   "source": [
    "# Check config file upload\n",
    "endpoint = 'upload/check/system-config'\n",
    "url = root_url + endpoint\n",
    "\n",
    "params = {\"tradeType\":tradeType}\n",
    "\n",
    "response = requests.get(url, params=params)\n",
    "print(response.json()['content'])"
   ]
  },
  {
   "cell_type": "markdown",
   "id": "705989d5",
   "metadata": {},
   "source": [
    "# DELETE"
   ]
  },
  {
   "cell_type": "code",
   "execution_count": null,
   "id": "221f39e6",
   "metadata": {},
   "outputs": [],
   "source": [
    "# # Delete uploaded strategy settings file\n",
    "# endpoint = 'upload/delete/system-config'\n",
    "# url = root_url + endpoint\n",
    "\n",
    "# config_name = strategy_name + \"_config\"\n",
    "# params = {\"tradeType\":tradeType, \"strategy_name\":strategy_name}\n",
    "\n",
    "# # Sending a DELETE request\n",
    "# response = requests.delete(url, params=params)\n",
    "# print(response.json())"
   ]
  },
  {
   "cell_type": "markdown",
   "id": "d2fbcae3",
   "metadata": {},
   "source": [
    "# Run Auto-Trade"
   ]
  },
  {
   "cell_type": "code",
   "execution_count": null,
   "id": "e69d9e21",
   "metadata": {
    "ExecuteTime": {
     "end_time": "2025-06-30T06:35:58.903992Z",
     "start_time": "2025-06-30T06:35:58.902547Z"
    }
   },
   "outputs": [],
   "source": [
    "# download oncetime\n",
    "!wget https://raw.githubusercontent.com/NeoMatrixAI/nb-runner/main/modules/log_viewer.py -O /content/drive/MyDrive/NeoMatrixAI/module/log_viewer.py  # trade log module"
   ]
  },
  {
   "cell_type": "code",
   "execution_count": null,
   "id": "f7120879",
   "metadata": {
    "ExecuteTime": {
     "end_time": "2025-06-30T06:36:01.410056Z",
     "start_time": "2025-06-30T06:36:01.408306Z"
    }
   },
   "outputs": [],
   "source": [
    "# run-system\n",
    "endpoint = 'command/run-system/spot'\n",
    "url = root_url + endpoint\n",
    "\n",
    "data = {\n",
    "    \"strategy_name\": strategy_name,\n",
    "    \"method\": \"rebalancing\"\n",
    "}\n",
    "\n",
    "response = requests.post(url, json=data)\n",
    "\n",
    "try:\n",
    "  session_id = response.json()['session_id']\n",
    "  print('session id :',response.json()['session_id'])\n",
    "  print('dashboard :',response.json()['dashboard_url'])\n",
    "except:\n",
    "  print('Error :',response.json()['message']['message'])\n",
    "\n",
    "  session_id = response.json()['message']['session_id']\n",
    "  print('session id :',session_id)\n",
    "\n",
    "  print('dashboard :',response.json()['message']['dashboard_url'])"
   ]
  },
  {
   "cell_type": "code",
   "execution_count": null,
   "id": "7d327a51",
   "metadata": {
    "ExecuteTime": {
     "end_time": "2025-06-30T06:36:03.753489Z",
     "start_time": "2025-06-30T06:36:03.752012Z"
    },
    "scrolled": true
   },
   "outputs": [],
   "source": [
    "# !python {your path for 'log_viewer.py'} --USER_KEY {USER_KEY} --session_id {session_id} --save_log true/false\n",
    "!python /content/drive/MyDrive/NeoMatrixAI/module/log_viewer.py --USER_KEY {USER_KEY} --session_id {session_id} --save_log true"
   ]
  },
  {
   "cell_type": "markdown",
   "id": "585ff7c5",
   "metadata": {},
   "source": [
    "# terminate"
   ]
  },
  {
   "cell_type": "code",
   "execution_count": null,
   "id": "ac399711",
   "metadata": {
    "ExecuteTime": {
     "end_time": "2025-06-30T06:36:06.011032Z",
     "start_time": "2025-06-30T06:36:06.009530Z"
    }
   },
   "outputs": [],
   "source": [
    "# terminate process\n",
    "# You must execute terminate to force liquidation of the current process.\n",
    "endpoint = 'command/terminate'\n",
    "url = root_url + endpoint\n",
    "\n",
    "params = {\"session_id\": f\"{session_id}\", \"tradeType\": tradeType}\n",
    "\n",
    "response = requests.get(url, params=params)\n",
    "print(response.json())"
   ]
  },
  {
   "cell_type": "markdown",
   "id": "c6950928",
   "metadata": {},
   "source": [
    "# Confirm position holding after Terminating"
   ]
  },
  {
   "cell_type": "code",
   "execution_count": null,
   "id": "7435995d",
   "metadata": {
    "ExecuteTime": {
     "end_time": "2025-06-30T06:36:08.540915Z",
     "start_time": "2025-06-30T06:36:08.539302Z"
    }
   },
   "outputs": [],
   "source": [
    "import pandas as pd\n",
    "#################### Don't Touch function ! #######################\n",
    "def account_assets(USER_KEY, coin, assetType):\n",
    "    url = f\"https://bitgettrader.fin.cloud.ainode.ai/{USER_KEY}/spot/account/account-assets\"\n",
    "\n",
    "    payload = {\n",
    "        \"user_key\": USER_KEY,\n",
    "        \"account_assets\": {\n",
    "            \"coin\": coin,\n",
    "            \"assetType\": assetType\n",
    "        }\n",
    "    }\n",
    "\n",
    "    response = requests.post(url, json=payload)\n",
    "    data = response.json()['data']\n",
    "    df = pd.DataFrame(data)\n",
    "    if df.empty:\n",
    "        print('Everything has been liquidated')\n",
    "        pass\n",
    "    return df\n",
    "################################################################\n",
    "\n",
    "coin = None\n",
    "assetType = None\n",
    "df = account_assets(USER_KEY, coin, assetType)\n",
    "df"
   ]
  },
  {
   "cell_type": "markdown",
   "id": "efc9a17d",
   "metadata": {},
   "source": [
    "# Sell Coin"
   ]
  },
  {
   "cell_type": "code",
   "execution_count": null,
   "id": "9d5ebf9b",
   "metadata": {},
   "outputs": [],
   "source": [
    "#################### Don't Touch function ! #######################\n",
    "def place_order(USER_KEY, symbol, side, orderType, force, price, size, clientOid, triggerPrice, \n",
    "                 tpslType, requestTime, receiveWindow, stpMode, presetTakeProfitPrice, executeTakeProfitPrice, presetStopLossPrice, executeStopLossPrice):\n",
    "\n",
    "    url = f\"https://bitgettrader.fin.cloud.ainode.ai/{USER_KEY}/spot/trade/place-order\"\n",
    "\n",
    "    payload = {\n",
    "        \"user_key\": USER_KEY,\n",
    "        \"place_order\": {\n",
    "            \"symbol\": symbol,\n",
    "            \"side\": side,\n",
    "            \"orderType\": orderType,\n",
    "            \"force\": force,\n",
    "            \"price\": price,\n",
    "            \"size\": size,\n",
    "            \"clientOid\": clientOid,\n",
    "            \"triggerPrice\": triggerPrice,\n",
    "            \"tpslType\": tpslType,\n",
    "            \"requestTime\": requestTime,\n",
    "            \"receiveWindow\": receiveWindow,\n",
    "            \"stpMode\": stpMode,\n",
    "            \"presetTakeProfitPrice\": presetTakeProfitPrice,\n",
    "            \"executeTakeProfitPrice\": executeTakeProfitPrice,\n",
    "            \"presetStopLossPrice\": presetStopLossPrice,\n",
    "            \"executeStopLossPrice\": executeStopLossPrice\n",
    "        }\n",
    "    }\n",
    "\n",
    "    response = requests.post(url, json=payload)\n",
    "    result = response.json()\n",
    "    data = result.get('data')\n",
    "    if data:\n",
    "      df = pd.DataFrame([data])\n",
    "      return df\n",
    "    else:\n",
    "      print(result.get('message'))\n",
    "\n",
    "################################################################\n",
    "\n",
    "\n",
    "symbol = 'BTCUSDT' # Just enter the symbol name you want to liquidate. ex) BTCUSDT, ETHUSDT ...\n",
    "side = \"sell\"\n",
    "orderType = \"market\"\n",
    "force =  \"gtc\"\n",
    "price = None\n",
    "size = \"0.000015\" # BaseCoin Quantity\n",
    "clientOid = None\n",
    "triggerPrice = None\n",
    "tpslType = None\n",
    "requestTime = None\n",
    "receiveWindow = None\n",
    "stpMode = None\n",
    "presetTakeProfitPrice = None\n",
    "executeTakeProfitPrice = None\n",
    "presetStopLossPrice = None\n",
    "executeStopLossPrice = None\n",
    "\n",
    "res = place_order(USER_KEY, symbol, side, orderType, force, price, size, clientOid, triggerPrice, tpslType, requestTime, receiveWindow, stpMode, presetTakeProfitPrice, executeTakeProfitPrice, presetStopLossPrice, executeStopLossPrice)\n",
    "res\n"
   ]
  }
 ],
 "metadata": {
  "kernelspec": {
   "display_name": "aifinance",
   "language": "python",
   "name": "python3"
  },
  "language_info": {
   "codemirror_mode": {
    "name": "ipython",
    "version": 3
   },
   "file_extension": ".py",
   "mimetype": "text/x-python",
   "name": "python",
   "nbconvert_exporter": "python",
   "pygments_lexer": "ipython3",
   "version": "3.8.20"
  },
  "toc": {
   "base_numbering": 1,
   "nav_menu": {},
   "number_sections": false,
   "sideBar": true,
   "skip_h1_title": false,
   "title_cell": "Table of Contents",
   "title_sidebar": "Contents",
   "toc_cell": false,
   "toc_position": {},
   "toc_section_display": true,
   "toc_window_display": false
  }
 },
 "nbformat": 4,
 "nbformat_minor": 5
}
