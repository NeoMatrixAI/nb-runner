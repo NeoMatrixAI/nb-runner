{
 "cells": [
  {
   "cell_type": "markdown",
   "id": "07eb2eb8",
   "metadata": {},
   "source": [
    "# Transfer of assets between spot and futures accounts"
   ]
  },
  {
   "cell_type": "code",
   "execution_count": null,
   "id": "efa12e91",
   "metadata": {},
   "outputs": [],
   "source": [
    "import pandas as pd\n",
    "import requests"
   ]
  },
  {
   "cell_type": "code",
   "execution_count": null,
   "id": "4ef669c9",
   "metadata": {},
   "outputs": [],
   "source": [
    "def transfer(USER_KEY, fromType, toType, amount):\n",
    "    url = f\"https://bitgettrader.fin.cloud.ainode.ai/{USER_KEY}/spot/wallet/transfer\"\n",
    "    payload = {\n",
    "        \"user_key\": USER_KEY,\n",
    "        \"transfer\": {\n",
    "            \"fromType\": fromType,\n",
    "            \"toType\": toType,\n",
    "            \"amount\": amount,\n",
    "            \"coin\": \"USDT\",\n",
    "            \"symbol\": \"BTCUSDT\",\n",
    "            \"clientOid\": None\n",
    "        }\n",
    "    }\n",
    "    \n",
    "    response = requests.post(url, json=payload)\n",
    "    data = response.json()['data']\n",
    "    df = pd.DataFrame([data])\n",
    "    \n",
    "    print(f\"{USER_KEY} : Transfer completed from {fromType} to {toType} for USDT {amount}\")        \n",
    "    return df"
   ]
  },
  {
   "cell_type": "code",
   "execution_count": null,
   "id": "400367d6",
   "metadata": {},
   "outputs": [],
   "source": [
    "### Variable definition\n",
    "USER_KEY = \"~~~~~~~~~~~~~~~~~~~~~~\" # Input your USER_KEY\n",
    "fromType = \"usdt_futures\" # select 'spot' / 'usdt_futures'\n",
    "toType = \"spot\" # select 'spot' / 'usdt_futures'\n",
    "amount = \"1\" # USDT amount to transfer\n",
    "\n",
    "### Run!\n",
    "res = transfer(USER_KEY, fromType, toType, amount)\n",
    "res"
   ]
  }
 ],
 "metadata": {
  "language_info": {
   "name": "python"
  }
 },
 "nbformat": 4,
 "nbformat_minor": 5
}
